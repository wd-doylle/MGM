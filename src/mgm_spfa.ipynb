{
 "cells": [
  {
   "cell_type": "code",
   "execution_count": 17,
   "metadata": {},
   "outputs": [],
   "source": [
    "import numpy as np\n",
    "import torch"
   ]
  },
  {
   "cell_type": "code",
   "execution_count": 99,
   "metadata": {},
   "outputs": [
    {
     "name": "stdout",
     "output_type": "stream",
     "text": [
      "0.395787093802594\n"
     ]
    }
   ],
   "source": [
    "m = 10\n",
    "n = 5\n",
    "K = np.random.rand(m,m,n*n,n*n)\n",
    "X = np.random.rand(m,m,n,n)\n",
    "print(K[0,0,0,0])"
   ]
  },
  {
   "cell_type": "code",
   "execution_count": 3,
   "metadata": {},
   "outputs": [
    {
     "name": "stdout",
     "output_type": "stream",
     "text": [
      "0.5659939936027523\n"
     ]
    }
   ],
   "source": [
    "def pair_wise_consistency(i,j,X,n,m):\n",
    "\ts = 0\n",
    "\tfor k in range(m):\n",
    "\t\ts += np.linalg.norm(X[i,j]-X[i,k].dot(X[k,j]))/2/n/m\n",
    "\treturn 1-s\n",
    "\n",
    "print(pair_wise_consistency(3,4,X,n,m))"
   ]
  },
  {
   "cell_type": "code",
   "execution_count": 4,
   "metadata": {},
   "outputs": [
    {
     "name": "stdout",
     "output_type": "stream",
     "text": [
      "7.4579392663481965\n"
     ]
    }
   ],
   "source": [
    "def affinity_score(i,j,X,K,n):\n",
    "    scr = X[i,j].T.reshape(1,-1).dot(K[i,j]).dot(X[i,j].T.reshape(-1,1))\n",
    "    GT = np.eye(n,n)\n",
    "    denom = GT.T.reshape(1,-1).dot(K[i,j]).dot(GT.T.reshape(-1,1))\n",
    "    return (scr/denom).item()\n",
    "\n",
    "print(affinity_score(3,4,X,K,n))"
   ]
  },
  {
   "cell_type": "code",
   "execution_count": 8,
   "metadata": {},
   "outputs": [
    {
     "data": {
      "text/plain": [
       "0"
      ]
     },
     "execution_count": 8,
     "metadata": {},
     "output_type": "execute_result"
    }
   ],
   "source": [
    "from queue import Queue\n",
    "\n",
    "q = Queue()\n",
    "for i in range(m):\n",
    "    q.put_nowait(i)\n",
    "q.get_nowait()"
   ]
  },
  {
   "cell_type": "code",
   "execution_count": null,
   "metadata": {},
   "outputs": [],
   "source": [
    "def affinity_score_vec(X,K,n):\n",
    "    scr = X.transpose((0,1,3,2)).squeeze(3).dot(K_ij).dot(X_ij.T.reshape(-1,1))\n",
    "    GT = np.eye(n,n)\n",
    "    denom = GT.T.reshape(1,-1).dot(K_ij).dot(GT.T.reshape(-1,1))\n",
    "    return (scr/denom).item()"
   ]
  },
  {
   "cell_type": "code",
   "execution_count": 68,
   "metadata": {},
   "outputs": [
    {
     "name": "stdout",
     "output_type": "stream",
     "text": [
      "torch.Size([100, 1, 1])\n",
      "torch.Size([100, 5, 5])\n"
     ]
    },
    {
     "data": {
      "text/plain": [
       "torch.Size([100, 1, 1])"
      ]
     },
     "execution_count": 68,
     "metadata": {},
     "output_type": "execute_result"
    }
   ],
   "source": [
    "X_tensor = torch.from_numpy(X)\n",
    "K_tensor = torch.from_numpy(K)\n",
    "XT = X_tensor.transpose(2,3)\n",
    "vec_XT = XT.reshape(XT.shape[0]*XT.shape[1],1,-1)\n",
    "vec_X = XT.reshape(XT.shape[0]*XT.shape[1],-1,1)\n",
    "vec_K = K_tensor.reshape(K.shape[0]*K.shape[1],K.shape[2],K.shape[3])\n",
    "scr = vec_XT.bmm(vec_K).bmm(vec_X)\n",
    "print(scr.shape)\n",
    "GT = torch.eye(n,n,dtype=vec_K.dtype).view(1,n,n).expand((m*m,n,n))\n",
    "print(GT.shape)\n",
    "vec_GTT = GT.view(GT.shape[0],1,-1)\n",
    "vec_GT = GT.view(GT.shape[0],-1,1)\n",
    "denom = vec_GTT.bmm(vec_K).bmm(vec_GT)\n",
    "(scr/denom).shape"
   ]
  },
  {
   "cell_type": "code",
   "execution_count": 63,
   "metadata": {},
   "outputs": [
    {
     "name": "stdout",
     "output_type": "stream",
     "text": [
      "torch.Size([10, 10])\n"
     ]
    }
   ],
   "source": [
    "X_tensor = torch.from_numpy(X)\n",
    "m1 = X_tensor.view(X.shape[0],X.shape[1],1,n,n).expand(-1,-1,m,-1,-1)\n",
    "m2 = m1.transpose(0,2)\n",
    "m3 = m1.transpose(1,2)\n",
    "s = (m3.reshape(-1,n,n) - m1.reshape(-1,n,n).bmm(m2.reshape(-1,n,n))).view(m,m,m,n,n).norm(dim=(3,4)).sum(1).squeeze(1)\n",
    "print(s.shape)\n",
    "1-s/m/n/2"
   ]
  },
  {
   "cell_type": "code",
   "execution_count": 82,
   "metadata": {},
   "outputs": [
    {
     "data": {
      "text/plain": [
       "torch.Size([10, 10, 5, 5])"
      ]
     },
     "execution_count": 82,
     "metadata": {},
     "output_type": "execute_result"
    }
   ],
   "source": [
    "X_opt = X_tensor.reshape(-1,n,n).bmm(X_tensor[:,-1].view(m,1,n,n).expand(-1,m,-1,-1).reshape(-1,n,n)).view(X.shape)\n",
    "X_opt.shape"
   ]
  },
  {
   "cell_type": "code",
   "execution_count": 114,
   "metadata": {},
   "outputs": [
    {
     "name": "stdout",
     "output_type": "stream",
     "text": [
      "tensor([[ 5.6231,  5.1422,  4.9460,  9.6391,  5.7485,  7.5755,  5.8343,  5.7320,\n",
      "          5.4200,  4.3701],\n",
      "        [ 6.5801,  6.3625,  7.0989,  6.3113,  8.1418,  5.3988,  5.2281,  4.7327,\n",
      "          4.5765,  5.7603],\n",
      "        [ 5.8988,  6.0644,  5.6079,  5.2195,  7.6193,  6.9012,  4.8225,  6.9730,\n",
      "          5.1039,  3.9485],\n",
      "        [ 4.3872,  8.3421,  7.4522,  5.2932,  6.8692,  7.9756,  8.1800,  4.4112,\n",
      "          5.5176,  7.4866],\n",
      "        [ 4.6262,  4.8060,  3.5543,  4.3065,  5.4598,  5.9138,  3.3933,  6.0735,\n",
      "          6.5628,  4.8698],\n",
      "        [ 5.7591,  6.6858,  8.4830,  5.0843,  5.6739,  7.6381,  4.5189,  4.4100,\n",
      "          7.5868, 10.1609],\n",
      "        [ 9.9538,  8.4004,  4.6207,  7.3428,  4.3703,  3.5732,  7.8005,  6.1169,\n",
      "          8.1597,  8.6284],\n",
      "        [ 6.4709,  3.6471,  6.1337,  4.2844,  7.1860,  4.7008,  7.5667,  6.0715,\n",
      "          6.0595,  5.8643],\n",
      "        [ 3.8820,  6.1859,  5.9005,  5.2754,  7.2176,  7.2366,  5.8504,  5.1947,\n",
      "          5.2487,  7.2604],\n",
      "        [ 3.8866,  5.3722,  6.5308,  6.7062,  3.8063,  5.2836,  3.8299,  5.4367,\n",
      "          4.5016,  7.0820]], dtype=torch.float64)\n",
      "tensor([3, 4, 4, 1, 8, 9, 0, 6, 9, 9])\n",
      "tensor([ 9.6391,  8.1418,  7.6193,  8.3421,  6.5628, 10.1609,  9.9538,  7.5667,\n",
      "         7.2604,  7.0820], dtype=torch.float64)\n"
     ]
    }
   ],
   "source": [
    "aff = (scr/denom).view(m,m)\n",
    "X[aff>5] = X_opt[aff>5]\n",
    "M,inds = aff.max(1)\n",
    "print(aff)\n",
    "print(inds)\n",
    "print(aff[range(aff.shape[0]),inds])"
   ]
  },
  {
   "cell_type": "code",
   "execution_count": 90,
   "metadata": {},
   "outputs": [
    {
     "data": {
      "text/plain": [
       "torch.Size([10, 5, 5])"
      ]
     },
     "execution_count": 90,
     "metadata": {},
     "output_type": "execute_result"
    }
   ],
   "source": [
    "X_tensor[:,-1].shape"
   ]
  },
  {
   "cell_type": "code",
   "execution_count": 110,
   "metadata": {},
   "outputs": [
    {
     "data": {
      "text/plain": [
       "tensor([24.5735, 36.6499, 22.1428, 39.6283, 26.5885, 77.6097, 67.3062, 35.6051,\n",
       "        38.1078, 50.1550], dtype=torch.float64)"
      ]
     },
     "execution_count": 110,
     "metadata": {},
     "output_type": "execute_result"
    }
   ],
   "source": [
    "aff.diagonal()*aff[:,-1]"
   ]
  },
  {
   "cell_type": "code",
   "execution_count": 112,
   "metadata": {},
   "outputs": [
    {
     "data": {
      "text/plain": [
       "tensor([3.8866, 5.3722, 6.5308, 6.7062, 3.8063, 5.2836, 3.8299, 5.4367, 4.5016,\n",
       "        7.0820], dtype=torch.float64)"
      ]
     },
     "execution_count": 112,
     "metadata": {},
     "output_type": "execute_result"
    }
   ],
   "source": []
  },
  {
   "cell_type": "code",
   "execution_count": null,
   "metadata": {},
   "outputs": [],
   "source": []
  }
 ],
 "metadata": {
  "kernelspec": {
   "display_name": "Python 3",
   "language": "python",
   "name": "python3"
  },
  "language_info": {
   "codemirror_mode": {
    "name": "ipython",
    "version": 3
   },
   "file_extension": ".py",
   "mimetype": "text/x-python",
   "name": "python",
   "nbconvert_exporter": "python",
   "pygments_lexer": "ipython3",
   "version": "3.7.6"
  }
 },
 "nbformat": 4,
 "nbformat_minor": 4
}
